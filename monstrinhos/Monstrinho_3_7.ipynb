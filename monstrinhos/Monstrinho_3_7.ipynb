{
 "cells": [
  {
   "cell_type": "markdown",
   "metadata": {},
   "source": [
    "# **Monstrinho 3.7**\n",
    "\n",
    "* Caio M. C. Ruas - RM: 24010\n",
    "\n",
    "## Introdução\n",
    "\n",
    "Nesse monstrinho, o objetivo é implementar três algoritmos diferentes de otimização (busca em grade, busca aleatória e algoritmo genético) para resolver o problema das caixas binárias e comparar o tempo de execução de cada um.\n",
    "\n",
    "Segundo o material de aula, podemos definir o problema das caixas binárias da seguinte maneira: \"[..] existem $N$ caixas e cada caixa deve conter um (e apenas um) item do conjunto $\\{0, 1\\}$. O objetivo é preencher todas as $N$ caixas de forma que a soma dos valores contidos nas mesmas seja máxima.\". Este problema é bem interessante, porque a solução ótima é trivial para nós humanos (todas as caixas devem conter o valor $1$), mas para um computador se trata de um problema NP-difícil. Portanto, se trata de um problema interessante para ser resolvido através de algoritmos de otimização, pois podemos utilizar diferentes abordagens para tentar encontrar a solução ótima e comparar o desempenho de cada uma delas.\n",
    "\n",
    "Primeiramente, é importante definir a metodologia de nosso trabalho. Para isso, vamos considerar o seguinte:\n",
    "\n",
    "- **Solução**: Uma solução é um vetor de tamanho $N$ que contém os valores $0$ ou $1$.\n",
    "- **Função de avaliação**: A função de avaliação é a soma dos valores contidos nas caixas. Ou seja, se temos uma solução $s = [0, 1, 1, 0]$, a função de avaliação seria $f(s) = 0 + 1 + 1 + 0 = 2$. A função de avaliação utilizada foi obtida através do material de aula.\n",
    "- **Solução ótima**: A solução ótima é aquela que possui a maior soma de valores. Ou seja, se temos uma solução $s = [1, 1, 1, 1]$, a função de avaliação seria $f(s) = 1 + 1 + 1 + 1 = 4$. Portanto, a solução ótima para o problema das caixas binárias é aquela que possui todos os valores iguais a $1$.\n",
    "- **Solução inicial**: A solução inicial é um vetor de tamanho $N$ que contém os valores $0$ ou $1$. Para a busca em grade, a solução inicial é o vetor $[0, 0, 0, 0]$. Para a busca aleatória e o algoritmo genético, a solução inicial é gerada aleatoriamente.\n",
    "- **Critério de parada**: O critério de parada é o ato de encontrar a solução ótima. Para a busca em grade, o critério de parada é o número máximo de iterações. Para a busca aleatória e o algoritmo genético, o critério de parada é o ato de encontrar a solução ótima.\n",
    "- **Número de caixas**: O número de caixas é o tamanho do vetor. Ou seja, se temos uma solução $s = [0, 1, 1, 0]$, o número de caixas é $N = 4$. Para obter uma resposta relevante para o nosso estudo, testaremos cada algoritmo para 10 valores diferentes de $N$ (``[2, 4, 6, 10, 12, 14, 15, 16, 18, 20]``). Para cada valor de $N$, serão realizados 10 testes para cada algoritmo. Portanto, teremos um total de $10 \\times 3 \\times 10 = 300$ testes.\n",
    "- **Métrica de avaliação**: A métrica de avaliação é o tempo de execução de cada algoritmo. O tempo de execução será medido em segundos e será a média dos 10 testes realizados para cada algoritmo. Portanto, teremos um total de $10 \\times 3 = 30$ médias de tempo. Para isso, utilizaremos a biblioteca `time` do Python.\n",
    "- **Resultados**: Os resultados serão apresentados em forma de tabela e gráfico. A tabela conterá o tempo médio de execução de cada algoritmo para cada valor de $N$. O gráfico mostrará o tempo médio de execução de cada algoritmo para cada valor de $N$."
   ]
  },
  {
   "cell_type": "code",
   "execution_count": 1,
   "metadata": {},
   "outputs": [],
   "source": [
    "import time\n",
    "import matplotlib.pyplot as plt\n",
    "import numpy as np\n",
    "\n",
    "num_caixas = [2, 4, 6, 10, 12, 14, 15, 16, 18, 20]"
   ]
  },
  {
   "cell_type": "code",
   "execution_count": 2,
   "metadata": {},
   "outputs": [],
   "source": [
    "def funcao_objetivo_cb(candidato):\n",
    "    return sum(candidato)"
   ]
  },
  {
   "cell_type": "markdown",
   "metadata": {},
   "source": [
    "### Busca em grade\n",
    "\n",
    "A busca em grade é um algoritmo de otimização que tenta encontrar a solução ótima através da exploração de todas as soluções possíveis. Iniciaremos por ela, pois é a mais simples de se implementar e entender."
   ]
  },
  {
   "cell_type": "code",
   "execution_count": 3,
   "metadata": {},
   "outputs": [],
   "source": [
    "from itertools import product\n",
    "\n",
    "num_repeticoes = 10\n",
    "\n",
    "tempos_b_grade = {}\n",
    "for n_val in num_caixas:\n",
    "    tempos_b_grade[n_val] = []\n",
    "\n",
    "for n_val in num_caixas:\n",
    "    for i in range(num_repeticoes):     \n",
    "        tempo_inicial = time.perf_counter()\n",
    "        for candidato_tuple in product([0,1], repeat=n_val):\n",
    "            candidato = list(candidato_tuple)\n",
    "            fobj = funcao_objetivo_cb(candidato)\n",
    "            if fobj == n_val:\n",
    "                tempo_final = time.perf_counter()\n",
    "                tempos_b_grade[n_val].append(tempo_final - tempo_inicial)\n",
    "                break\n",
    "\n",
    "tempos_b_grade_media_std = {}\n",
    "for n_val in num_caixas:\n",
    "    tempos_b_grade_media_std[n_val] = {\n",
    "        'media': np.mean(tempos_b_grade[n_val]),\n",
    "        'std': np.std(tempos_b_grade[n_val])\n",
    "    }"
   ]
  },
  {
   "cell_type": "code",
   "execution_count": 4,
   "metadata": {},
   "outputs": [
    {
     "name": "stdout",
     "output_type": "stream",
     "text": [
      "\n",
      "Resultados da Busca em Grade (tempo médio):\n",
      "n = 2: 0.000002 segundos (std: 0.000002)\n",
      "n = 4: 0.000006 segundos (std: 0.000001)\n",
      "n = 6: 0.000022 segundos (std: 0.000000)\n",
      "n = 10: 0.000350 segundos (std: 0.000006)\n",
      "n = 12: 0.002028 segundos (std: 0.000402)\n",
      "n = 14: 0.007964 segundos (std: 0.002140)\n",
      "n = 15: 0.013116 segundos (std: 0.002276)\n",
      "n = 16: 0.025674 segundos (std: 0.000804)\n",
      "n = 18: 0.110423 segundos (std: 0.005982)\n",
      "n = 20: 0.468546 segundos (std: 0.009823)\n"
     ]
    }
   ],
   "source": [
    "print(\"\\nResultados da Busca em Grade (tempo médio):\")\n",
    "for n_val in tempos_b_grade_media_std:\n",
    "    if not np.isnan(tempos_b_grade_media_std[n_val]['media']):\n",
    "        print(f\"n = {n_val}: {tempos_b_grade_media_std[n_val]['media']:.6f} segundos (std: {tempos_b_grade_media_std[n_val]['std']:.6f})\")\n",
    "    else:\n",
    "        print(f\"n = {n_val}: Sem dados\")"
   ]
  },
  {
   "cell_type": "markdown",
   "metadata": {},
   "source": [
    "### Busca aleatória\n",
    "\n",
    "A busca aleatória é um algoritmo de otimização que tenta encontrar a solução ótima através da exploração de soluções aleatórias. Esse algoritmo é interessante, pois não necessiariamente precisa explorar todas as soluções possíveis, mas sim uma amostra delas. Portanto, ele pode ser mais rápido que a busca em grade, mas normalmente não garante encontrar a solução ótima."
   ]
  },
  {
   "cell_type": "code",
   "execution_count": 5,
   "metadata": {},
   "outputs": [],
   "source": [
    "import random\n",
    "\n",
    "random.seed(12)\n",
    "\n",
    "def gene_cb():\n",
    "    valores_possiveis = [0, 1]\n",
    "    gene = random.choice(valores_possiveis)\n",
    "    return gene\n",
    "\n",
    "def cria_candidato_cb(n):\n",
    "    candidato = []\n",
    "    for _ in range(n):\n",
    "        gene = gene_cb()\n",
    "        candidato.append(gene)\n",
    "    return candidato"
   ]
  },
  {
   "cell_type": "code",
   "execution_count": 6,
   "metadata": {},
   "outputs": [
    {
     "name": "stdout",
     "output_type": "stream",
     "text": [
      "Processando para n = 2\n",
      "Processando para n = 4\n",
      "Processando para n = 6\n",
      "Processando para n = 10\n",
      "Processando para n = 12\n",
      "Processando para n = 14\n",
      "Processando para n = 15\n",
      "Processando para n = 16\n",
      "Processando para n = 18\n",
      "Processando para n = 20\n"
     ]
    }
   ],
   "source": [
    "tempos_b_aleatoria = {}\n",
    "for n_val in num_caixas:\n",
    "    tempos_b_aleatoria[n_val] = []\n",
    "\n",
    "for n_val in num_caixas:\n",
    "    print(f\"Processando para n = {n_val}\")\n",
    "    for i in range(num_repeticoes):\n",
    "        fobj = 0\n",
    "        tempo_inicial = time.perf_counter()\n",
    "        while fobj != n_val:\n",
    "            candidato = cria_candidato_cb(n_val)\n",
    "            fobj = funcao_objetivo_cb(candidato)\n",
    "        tempo_final = time.perf_counter()\n",
    "        tempos_b_aleatoria[n_val].append(tempo_final - tempo_inicial)\n",
    "\n",
    "tempos_b_aleatoria_media_std = {}\n",
    "for n_val in num_caixas:\n",
    "    tempos_b_aleatoria_media_std[n_val] = {\n",
    "        'media': np.mean(tempos_b_aleatoria[n_val]),\n",
    "        'std': np.std(tempos_b_aleatoria[n_val])\n",
    "    }"
   ]
  },
  {
   "cell_type": "code",
   "execution_count": 7,
   "metadata": {},
   "outputs": [
    {
     "name": "stdout",
     "output_type": "stream",
     "text": [
      "\n",
      "Resultados aleatórios (tempo médio):\n",
      "n = 2: 0.000007 segundos (std: 0.000004)\n",
      "n = 4: 0.000023 segundos (std: 0.000026)\n",
      "n = 6: 0.000382 segundos (std: 0.000423)\n",
      "n = 10: 0.006349 segundos (std: 0.006717)\n",
      "n = 12: 0.033844 segundos (std: 0.026722)\n",
      "n = 14: 0.107980 segundos (std: 0.079631)\n",
      "n = 15: 0.142861 segundos (std: 0.145652)\n",
      "n = 16: 0.423758 segundos (std: 0.365691)\n",
      "n = 18: 2.400772 segundos (std: 2.421392)\n",
      "n = 20: 5.559374 segundos (std: 3.222268)\n"
     ]
    }
   ],
   "source": [
    "print(\"\\nResultados aleatórios (tempo médio):\")\n",
    "for n_val in tempos_b_aleatoria_media_std:\n",
    "    if not np.isnan(tempos_b_aleatoria_media_std[n_val]['media']):\n",
    "        print(f\"n = {n_val}: {tempos_b_aleatoria_media_std[n_val]['media']:.6f} segundos (std: {tempos_b_aleatoria_media_std[n_val]['std']:.6f})\")\n",
    "    else:\n",
    "        print(f\"n = {n_val}: Sem dados\")"
   ]
  },
  {
   "cell_type": "markdown",
   "metadata": {},
   "source": [
    "### Algortimo genético\n",
    "\n",
    "O algoritmo genético é um algoritmo de otimização que tenta encontrar a solução ótima através da simulação do processo de evolução natural. Esse algoritmo é interessante, pois utiliza conceitos como seleção, cruzamento e mutação para gerar novas soluções a partir de soluções existentes. Portanto, ele pode ser ainda mais rápido que a busca em grade e a busca aleatória, mas normalmente não garante encontrar a solução ótima."
   ]
  },
  {
   "cell_type": "code",
   "execution_count": 8,
   "metadata": {},
   "outputs": [],
   "source": [
    "def populacao_cb(tamanho, n):\n",
    "    \"\"\"Cria uma população para o problema das caixas binárias.\n",
    "    \n",
    "    Args:\n",
    "      tamanho: tamanho da população\n",
    "      n: inteiro que representa o número de caixas de cada indivíduo.\n",
    "      \n",
    "    \"\"\"\n",
    "    populacao = []\n",
    "    for _ in range(tamanho):\n",
    "        populacao.append(cria_candidato_cb(n))\n",
    "    return populacao\n",
    "\n",
    "\n",
    "def funcao_objetivo_pop_cb(populacao):\n",
    "    \"\"\"Computa a função objetivo para uma população no problema das caixas binárias\n",
    "    \n",
    "    Args:\n",
    "      populacao: lista contendo os individuos do problema\n",
    "      \n",
    "    \"\"\"\n",
    "    fitness = []\n",
    "    for individuo in populacao:\n",
    "        fitness.append(funcao_objetivo_cb(individuo))\n",
    "    return fitness\n",
    "\n",
    "\n",
    "def selecao_roleta_max(populacao, fitness):\n",
    "    \"\"\"Realiza seleção da população pela roleta\n",
    "    \n",
    "    Args:\n",
    "      populacao: lista contendo os individuos do problema\n",
    "      fitness: lista contendo os valores computados da funcao objetivo\n",
    "      \n",
    "    \"\"\"\n",
    "    selecionados = random.choices(populacao, fitness, k=len(populacao))\n",
    "    return selecionados\n",
    "\n",
    "\n",
    "def cruzamento_ponto_simples(pai, mae, chance_de_cruzamento):\n",
    "    \"\"\"Realiza cruzamento de ponto simples\n",
    "    \n",
    "    Args:\n",
    "      pai: lista representando um individuo\n",
    "      mae: lista representando um individuo\n",
    "      chance_de_cruzamento: float entre 0 e 1 representando a chance de cruzamento\n",
    "      \n",
    "    \"\"\"\n",
    "    if random.random() < chance_de_cruzamento:\n",
    "        corte = random.randint(1, len(mae) - 1)\n",
    "        filho1 = pai[:corte] + mae[corte:]\n",
    "        filho2 = mae[:corte] + pai[corte:]\n",
    "        return filho1, filho2\n",
    "    else:\n",
    "        return pai, mae\n",
    "\n",
    "def mutacao_simples_cb(populacao, chance_de_mutacao):\n",
    "    \"\"\"Realiza mutação simples no problema das caixas binárias\n",
    "    \n",
    "    Args:\n",
    "      populacao: lista contendo os indivíduos do problema\n",
    "      chance_de_mutacao: float entre 0 e 1 representando a chance de cruzamento\n",
    "      \n",
    "    \"\"\"\n",
    "    for individuo in populacao:\n",
    "        if random.random() < chance_de_mutacao:\n",
    "            gene = random.randint(0, len(individuo) - 1)\n",
    "            individuo[gene] = 0 if individuo[gene] == 1 else 1"
   ]
  },
  {
   "cell_type": "code",
   "execution_count": 9,
   "metadata": {},
   "outputs": [
    {
     "name": "stdout",
     "output_type": "stream",
     "text": [
      "Processando para n = 2\n",
      "Processando para n = 4\n",
      "Processando para n = 6\n",
      "Processando para n = 10\n",
      "Processando para n = 12\n",
      "Processando para n = 14\n",
      "Processando para n = 15\n",
      "Processando para n = 16\n",
      "Processando para n = 18\n",
      "Processando para n = 20\n"
     ]
    }
   ],
   "source": [
    "tempos_b_ga = {}\n",
    "for n_val in num_caixas:\n",
    "    tempos_b_ga[n_val] = []\n",
    "\n",
    "for n_val in num_caixas:\n",
    "    print(f\"Processando para n = {n_val}\")\n",
    "    for i in range(num_repeticoes):\n",
    "        populacao = populacao_cb(100, n_val)\n",
    "        fobj = funcao_objetivo_pop_cb(populacao)\n",
    "        tempo_inicial = time.perf_counter()\n",
    "        while max(fobj) != n_val:\n",
    "            selecionados = selecao_roleta_max(populacao, fobj)\n",
    "            nova_populacao = []\n",
    "            for j in range(0, len(selecionados), 2):\n",
    "                pai = selecionados[j]\n",
    "                mae = selecionados[j + 1] if j + 1 < len(selecionados) else selecionados[0]\n",
    "                filho1, filho2 = cruzamento_ponto_simples(pai, mae, 0.7)\n",
    "                nova_populacao.append(filho1)\n",
    "                nova_populacao.append(filho2)\n",
    "            mutacao_simples_cb(nova_populacao, 0.01)\n",
    "            populacao = nova_populacao\n",
    "            fobj = funcao_objetivo_pop_cb(populacao)\n",
    "        tempo_final = time.perf_counter()\n",
    "        tempos_b_ga[n_val].append(tempo_final - tempo_inicial)\n",
    "\n",
    "tempos_b_ga_media_std = {}\n",
    "for n_val in num_caixas:\n",
    "    tempos_b_ga_media_std[n_val] = {\n",
    "        'media': np.mean(tempos_b_ga[n_val]),\n",
    "        'std': np.std(tempos_b_ga[n_val])\n",
    "    }\n"
   ]
  },
  {
   "cell_type": "code",
   "execution_count": 10,
   "metadata": {},
   "outputs": [
    {
     "name": "stdout",
     "output_type": "stream",
     "text": [
      "\n",
      "Resultados do Algoritmo Genético (tempo médio):\n",
      "n = 2: 0.000003 segundos (std: 0.000001)\n",
      "n = 4: 0.000002 segundos (std: 0.000000)\n",
      "n = 6: 0.000039 segundos (std: 0.000074)\n",
      "n = 10: 0.000695 segundos (std: 0.000418)\n",
      "n = 12: 0.001402 segundos (std: 0.000676)\n",
      "n = 14: 0.002577 segundos (std: 0.001319)\n",
      "n = 15: 0.002000 segundos (std: 0.000937)\n",
      "n = 16: 0.002290 segundos (std: 0.000874)\n",
      "n = 18: 0.002422 segundos (std: 0.000975)\n",
      "n = 20: 0.003179 segundos (std: 0.000883)\n"
     ]
    }
   ],
   "source": [
    "print(\"\\nResultados do Algoritmo Genético (tempo médio):\")\n",
    "for n_val in tempos_b_ga_media_std:\n",
    "    if not np.isnan(tempos_b_ga_media_std[n_val]['media']):\n",
    "        print(f\"n = {n_val}: {tempos_b_ga_media_std[n_val]['media']:.6f} segundos (std: {tempos_b_ga_media_std[n_val]['std']:.6f})\")\n",
    "    else:\n",
    "        print(f\"n = {n_val}: Sem dados\")"
   ]
  },
  {
   "cell_type": "markdown",
   "metadata": {},
   "source": [
    "### Comparação\n",
    "\n",
    "Agora, compararemos os três algoritmos implementados. Para isso, utilizaremos a métrica de avaliação definida anteriormente (tempo de execução) e apresentaremos os resultados em forma de tabela e gráfico. A tabela conterá o tempo médio de execução de cada algoritmo para cada valor de $N$. O gráfico mostrará o tempo médio de execução de cada algoritmo para cada valor de $N$."
   ]
  },
  {
   "cell_type": "code",
   "execution_count": 11,
   "metadata": {},
   "outputs": [
    {
     "data": {
      "image/png": "[encoded data removed]",
      "text/plain": [
       "<Figure size 1000x600 with 1 Axes>"
      ]
     },
     "metadata": {},
     "output_type": "display_data"
    }
   ],
   "source": [
    "tabela_tempos = {\n",
    "    'Busca em Grade': tempos_b_grade_media_std,\n",
    "    'Busca Aleatória': tempos_b_aleatoria_media_std,\n",
    "    'Algoritmo Genético': tempos_b_ga_media_std\n",
    "}\n",
    "\n",
    "def plotar_graficos(tabela_tempos):\n",
    "    fig, ax = plt.subplots(figsize=(10, 6))\n",
    "    for metodo, tempos in tabela_tempos.items():\n",
    "        n_valores = list(tempos.keys())\n",
    "        medias = [tempos[n]['media'] for n in n_valores]\n",
    "        stds = [tempos[n]['std'] for n in n_valores]\n",
    "        ax.errorbar(n_valores, medias, yerr=stds, label=metodo, fmt='-o', capsize=5)\n",
    "\n",
    "    ax.set_xlabel('Número de Caixas')\n",
    "    ax.set_ylabel('Tempo Médio (segundos)')\n",
    "    ax.set_title('Comparação de Algoritmos para o Problema das Caixas Binárias')\n",
    "    ax.legend()\n",
    "    plt.grid()\n",
    "    plt.show()\n",
    "\n",
    "plotar_graficos(tabela_tempos)"
   ]
  },
  {
   "cell_type": "markdown",
   "metadata": {},
   "source": [
    "Conseguimos gerar com sucesso o gráfico de comparação! Agora, vamos entender tudo que aconteceu e tirar nossas conclusões."
   ]
  },
  {
   "cell_type": "markdown",
   "metadata": {},
   "source": [
    "## Comparação dos graficos e conclusões\n",
    "\n",
    "\n",
    "### Interpretação dos Resultados por Algoritmo:\n",
    "\n",
    "* **Busca em Grade**:\n",
    "    * Apresenta um **crescimento exponencial** no tempo de execução conforme $N$ aumenta.\n",
    "    * **Justificativa**: Este algoritmo testa todas as $2^N$ combinações possíveis. Para valores pequenos de $N$, o tempo é baixo, mas rapidamente se torna computacionalmente caro, como visto pela inclinação acentuada da curva azul para $N \\ge 16$. Este comportamento é típico de algoritmos de busca exaustiva em espaços de busca que crescem exponencialmente.\n",
    "\n",
    "* **Busca Aleatória**:\n",
    "    * Também demonstra um aumento no tempo de execução com o crescimento de $N$, sendo este aumento particularmente acentuado e com **alta variabilidade** para $N=20$.\n",
    "    * **Justificativa**: O algoritmo gera soluções aleatórias até encontrar a ótima. A probabilidade de encontrar a solução $[1, 1, ..., 1]$ em uma tentativa é $1/2^N$, o que implica um número esperado de $2^N$ tentativas. A natureza estocástica do algoritmo explica a grande variabilidade nos tempos (barras de erro), onde algumas execuções podem encontrar a solução por sorte mais rapidamente que outras. Isso também corrige o que foi dito anteriormente sobre a busca aleatória ser mais rápida que a busca em grade; na verdade, ela é mais eficiente em termos de espaço de busca, mas não necessariamente mais rápida em termos de tempo de execução, especialmente para valores altos de $N$.\n",
    "\n",
    "* **Algoritmo Genético**:\n",
    "    * Exibe a **melhor performance**, com um tempo de execução consistentemente baixo e próximo de zero para todos os valores de $N$ testados.\n",
    "    * **Justificativa**: Algoritmos Genéticos utilizam uma população de soluções e operadores como seleção, cruzamento e mutação para convergir para soluções ótimas. Para o Problema das Caixas Binárias, cuja função de avaliação é simples e a direção da otimização é clara (maximizar a soma, ou seja, preencher com '1's), o Algoritmo Genético consegue encontrar a solução ótima de forma muito eficiente, geralmente em poucas gerações. Isso resulta em um tempo de execução que não escala significativamente com $N$ dentro da faixa testada. É como se ele fosse uma busca aleatória guiada, onde a evolução das soluções permite uma exploração mais inteligente do espaço de busca.\n",
    "\n",
    "### Conclusões:\n",
    "\n",
    "Os resultados gráficos confirmam as expectativas teóricas:\n",
    "\n",
    "* A **Busca em Grade** é inviável para $N$ maiores devido à sua natureza exaustiva.\n",
    "* A **Busca Aleatória**, embora conceitualmente simples, também sofre com a dimensionalidade. Para encontrar a solução ótima global, pode ser pior que a busca em grade. Mas, sempre vale destacar, para se posicionar em um ponto intermediário entre eficiência e simplicidade, a busca aleatória pode ser útil em problemas onde uma solução aproximada é aceitável.\n",
    "* O **Algoritmo Genético** se destaca como uma heurística eficiente, capaz de encontrar a solução ótima rapidamente para este problema específico, demonstrando sua vantagem em navegar por espaços de busca de forma mais inteligente do que as abordagens anteriores."
   ]
  },
  {
   "cell_type": "markdown",
   "metadata": {},
   "source": [
    "## Referências\n",
    "\n",
    "No geral, não foram utilizadas referências externas para a implementação deste monstrinho, mas é importante ressaltar que o material de aula foi fundamental para a compreensão do problema e das abordagens de otimização.\n",
    "\n",
    "Segue a referência da inovação utilizado nesse monstrinho, a função `time.perf_counter` da biblioteca `time` do Python, uma função idealizada para medir o tempo de execução de código com alta precisão.\n",
    "\n",
    "$^{[1]}$ **time — Time access and conversions**. Disponível em: <https://docs.python.org/3/library/time.html#time.perf_counter_ns>. "
   ]
  }
 ],
 "metadata": {
  "kernelspec": {
   "display_name": "base",
   "language": "python",
   "name": "python3"
  },
  "language_info": {
   "codemirror_mode": {
    "name": "ipython",
    "version": 3
   },
   "file_extension": ".py",
   "mimetype": "text/x-python",
   "name": "python",
   "nbconvert_exporter": "python",
   "pygments_lexer": "ipython3",
   "version": "3.11.5"
  }
 },
 "nbformat": 4,
 "nbformat_minor": 2
}
