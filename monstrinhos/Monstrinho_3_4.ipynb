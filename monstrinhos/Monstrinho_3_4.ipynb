{
 "cells": [
  {
   "cell_type": "markdown",
   "metadata": {},
   "source": [
    "# **Monstrinho 3.4**\n",
    "\n",
    "* Caio M. C. Ruas - RM: 24010\n",
    "\n",
    "## Introdução\n",
    "\n",
    "Nessa atividade, o objetivo proposto era a criação de uma classe e implementação de ao menos 3 métodos dunder que não foram utilizados em materiais de aula.\n",
    "\n",
    "Com esse objetivo em mente, foi imaginado um contexto baseado no clássico jogo *Pokémon*, onde o jogador pode capturar monstrinhos e batalhar com eles. Nesse jogo, existe um objeto chamado *Pokédex* que armazena os monstrinhos capturados pelo jogador, como se fosse um catálogo. A ideia deste notebook é simular a criação de uma *Pokédex* e a implementação de métodos dunder para manipulação desse objeto.\n",
    "\n",
    "Para isso, foram criadas duas classes: a classe `Pokemon` e a classe `Pokedex`. A classe `Pokemon` é responsável por criar um objeto do representando o \"monstrinho\" com atributos como nome e tipo. A classe `Pokedex` é responsável por criar um objeto representando a *Pokédex* que armazena os monstrinhos capturados pelo jogador. A seguir, serão apresentadas as implementações dessas classes e de seus métodos.\n",
    "\n",
    "Vamos começar com a classe `Pokemon`!"
   ]
  },
  {
   "cell_type": "code",
   "execution_count": 97,
   "metadata": {},
   "outputs": [],
   "source": [
    "class Pokemon:\n",
    "        \"\"\" Uma classe que representa um Pokemon. \"\"\"\n",
    "    \n",
    "        def __init__(self, name, type, code):\n",
    "            self.name = name\n",
    "            self.type = type\n",
    "            self.code = code\n",
    "    \n",
    "        def get_name(self):\n",
    "            return self.name\n",
    "    \n",
    "        def get_type(self):\n",
    "            return self.type\n",
    "\n",
    "        def get_code(self):\n",
    "            return self.code\n",
    "    \n",
    "        def __str__(self):\n",
    "            return f\"{self.name} is a {self.type} type Pokemon with code {self.code}.\""
   ]
  },
  {
   "cell_type": "markdown",
   "metadata": {},
   "source": [
    "Vamos tentar criar um *Bulbasaur* e um *Charmander*, *Pokémons* clássicos!"
   ]
  },
  {
   "cell_type": "code",
   "execution_count": 98,
   "metadata": {},
   "outputs": [
    {
     "name": "stdout",
     "output_type": "stream",
     "text": [
      "Bulbasaur is a Grass type Pokemon with code 1.\n",
      "Charmander is a Fire type Pokemon with code 4.\n"
     ]
    }
   ],
   "source": [
    "bulbasaur = Pokemon(\"Bulbasaur\", \"Grass\", 1)\n",
    "\n",
    "charmander = Pokemon(\"Charmander\", \"Fire\", 4)\n",
    "\n",
    "print(bulbasaur)\n",
    "\n",
    "print(charmander)"
   ]
  },
  {
   "cell_type": "markdown",
   "metadata": {},
   "source": [
    "Deu certo! Agora vamos criar a classe *Pokédex* e adicionar esses monstrinhos a um objeto teste."
   ]
  },
  {
   "cell_type": "code",
   "execution_count": 99,
   "metadata": {},
   "outputs": [],
   "source": [
    "class Pokedex:\n",
    "\n",
    "    def __init__(self):\n",
    "        self.pokemons = []\n",
    "    \n",
    "    def add_pokemon(self, pokemon):\n",
    "        self.pokemons.append(pokemon)\n",
    "\n",
    "    def all_pokemons(self):\n",
    "        \"\"\" Retorna o nome de todos os pokemons da pokedex. \"\"\"\n",
    "        return [pokemon.get_name() for pokemon in self.pokemons]\n",
    "    \n",
    "    def get_pokemon(self, code):\n",
    "        for pokemon in self.pokemons:\n",
    "            if pokemon.get_code() == code:\n",
    "                return pokemon.get_name()\n",
    "        return None\n",
    "    \n",
    "    def get_pokemons_by_type(self, type):\n",
    "        pokemons_by_type = []\n",
    "        for pokemon in self.pokemons:\n",
    "            if pokemon.get_type() == type:\n",
    "                pokemons_by_type.append(pokemon.get_name())\n",
    "        return pokemons_by_type\n",
    "\n",
    "    def __str__(self):\n",
    "        return f\"Pokedex with {len(self.pokemons)} pokemons.\"\n",
    "\n",
    "    def __len__(self):\n",
    "        return len(self.pokemons)\n",
    "\n",
    "    def __add__(self, other):\n",
    "        self.pokemons.extend(other.pokemons)\n",
    "        return self\n",
    "\n",
    "    def __eq__(self, other):\n",
    "        if len(self.pokemons) == len(other.pokemons) and all(pokemon in other.pokemons for pokemon in self.pokemons):\n",
    "            return True\n",
    "        return False\n",
    "    \n",
    "    def __ne__(self, other):\n",
    "        return not self.__eq__(other)\n",
    "\n",
    "    def __lt__(self, other):\n",
    "        return len(self.pokemons) < len(other.pokemons)\n",
    "\n",
    "    def __gt__(self, other):\n",
    "        return len(self.pokemons) > len(other.pokemons)\n",
    "\n",
    "    def __le__(self, other):\n",
    "        return len(self.pokemons) <= len(other.pokemons)\n",
    "\n",
    "    def __ge__(self, other):\n",
    "        return len(self.pokemons) >= len(other.pokemons)"
   ]
  },
  {
   "cell_type": "code",
   "execution_count": 100,
   "metadata": {},
   "outputs": [
    {
     "name": "stdout",
     "output_type": "stream",
     "text": [
      "Pokedex with 2 pokemons.\n",
      "2\n",
      "\n",
      "['Bulbasaur', 'Charmander']\n",
      "Bulbasaur\n",
      "Charmander\n",
      "None\n",
      "\n",
      "['Charmander']\n",
      "['Bulbasaur']\n",
      "[]\n"
     ]
    }
   ],
   "source": [
    "pokedex_teste = Pokedex()\n",
    "\n",
    "pokedex_teste.add_pokemon(bulbasaur)\n",
    "pokedex_teste.add_pokemon(charmander)\n",
    "\n",
    "print(pokedex_teste)\n",
    "print(len(pokedex_teste))\n",
    "print()\n",
    "\n",
    "print(pokedex_teste.all_pokemons())\n",
    "print(pokedex_teste.get_pokemon(1))\n",
    "print(pokedex_teste.get_pokemon(4))\n",
    "print(pokedex_teste.get_pokemon(2))\n",
    "print()\n",
    "\n",
    "print(pokedex_teste.get_pokemons_by_type(\"Fire\"))\n",
    "print(pokedex_teste.get_pokemons_by_type(\"Grass\"))\n",
    "print(pokedex_teste.get_pokemons_by_type(\"Water\"))"
   ]
  },
  {
   "cell_type": "markdown",
   "metadata": {},
   "source": [
    "Com a nossa *Pokédex* criada e funcionando, podemos tentar criar um contexto legal e lógico para testar nossos métodos dunder! \n",
    "\n",
    "- Vamos imaginar que *Caio* e *Thalles* são dois treinadores *Pokémon* que começaram suas jornadas recentemente. Eles estavam seguindo suas viagens *pokemaníacas* quando se encontraram em uma floresta aleatória pela primeira vez. Então começaram a conversar sobre suas jornadas. \n",
    "    \n",
    "    Nesse encontro, eles descobriram que são rivais mortais! Isso porque Caio escolheu o *Charmander* como seu primeiro monstrinho e Thalles escolheu o *Bulbasaur*, uma opostação clássica! Então começaram a competir e juraram se encontrar novamente para ver qual era o maior treinador *Pokémon* de todos os tempos!"
   ]
  },
  {
   "cell_type": "code",
   "execution_count": 101,
   "metadata": {},
   "outputs": [],
   "source": [
    "pokedex_caio = Pokedex()\n",
    "pokedex_thalles = Pokedex()\n",
    "\n",
    "pokedex_caio.add_pokemon(charmander)\n",
    "\n",
    "pokedex_thalles.add_pokemon(bulbasaur)"
   ]
  },
  {
   "cell_type": "markdown",
   "metadata": {},
   "source": [
    "- Eles se despediram e seguiram seus caminhos pessoais capturando os *Pokémons* que encontravam.\n",
    "\n",
    "Para simular essa história, vamos criar um código que adiciona monstrinhos à *Pokédex* de cada um dos treinadores de maneira aleatória e depois compararemos-as para ver quem capturou mais monstrinhos!"
   ]
  },
  {
   "cell_type": "code",
   "execution_count": 102,
   "metadata": {},
   "outputs": [],
   "source": [
    "import random\n",
    "\n",
    "pokemons_disponiveis = [\n",
    "    Pokemon(\"Squirtle\", \"Water\", 7),\n",
    "    Pokemon(\"Pikachu\", \"Electric\", 25),\n",
    "    Pokemon(\"Eevee\", \"Normal\", 133),\n",
    "    Pokemon(\"Snorlax\", \"Normal\", 143),\n",
    "    Pokemon(\"Gengar\", \"Ghost/Poison\", 94),\n",
    "    Pokemon(\"Machop\", \"Fighting\", 66),\n",
    "    Pokemon(\"Abra\", \"Psychic\", 63),\n",
    "    Pokemon(\"Jigglypuff\", \"Normal/Fairy\", 39),\n",
    "    Pokemon(\"Meowth\", \"Normal\", 52),\n",
    "    Pokemon(\"Psyduck\", \"Water\", 54),\n",
    "    Pokemon(\"Growlithe\", \"Fire\", 58),\n",
    "    Pokemon(\"Ponyta\", \"Fire\", 77),\n",
    "    Pokemon(\"Lapras\", \"Water/Ice\", 131),\n",
    "    Pokemon(\"Ditto\", \"Normal\", 132),\n",
    "    Pokemon(\"Vaporeon\", \"Water\", 134),\n",
    "    Pokemon(\"Flareon\", \"Fire\", 136),\n",
    "    Pokemon(\"Jolteon\", \"Electric\", 135),\n",
    "    Pokemon(\"Mewtwo\", \"Psychic\", 150)\n",
    "]\n",
    "\n",
    "def adicionar_pokemons_aleatorios(pokedex, pokemons_disponiveis, seed):\n",
    "    \"\"\"Adiciona um número aleatório de Pokémons à Pokédex.\"\"\"\n",
    "    random.seed(seed)\n",
    "    for _ in range(random.randint(1, len(pokemons_disponiveis))):\n",
    "        pokemon = random.choice(pokemons_disponiveis)\n",
    "        pokedex.add_pokemon(pokemon)\n",
    "\n",
    "seed_caio = 23\n",
    "seed_thalles = 8\n",
    "# Adiciona Pokémons aleatórios às Pokédexes de Caio e Thalles\n",
    "adicionar_pokemons_aleatorios(pokedex_caio, pokemons_disponiveis, seed_caio)\n",
    "adicionar_pokemons_aleatorios(pokedex_thalles, pokemons_disponiveis, seed_thalles)"
   ]
  },
  {
   "cell_type": "markdown",
   "metadata": {},
   "source": [
    "- Imaginemos agora que *Caio* e *Thalles* se encontraram novamente após um tempo e resolveram comparar suas *Pokédex* para ver quem capturou mais monstrinhos.\n",
    "\n",
    "Para compará-las, vamos utilizar os métodos dunder que implementamos!\n",
    "\n",
    "**Obs.:** Cada tipo de comparação/método será feita em um bloco de código separado para facilitar a visualização. Após o *output* de cada bloco, será mostrada uma breve explicação do que foi feito, explicitando o dunder utilizado.\n",
    "\n",
    "Vamos começar!\n",
    "\n",
    "### Método para comparação de igualdade ( `==` )"
   ]
  },
  {
   "cell_type": "code",
   "execution_count": 103,
   "metadata": {},
   "outputs": [
    {
     "name": "stdout",
     "output_type": "stream",
     "text": [
      "- Será que as duas Pokédexes têm os mesmos Pokémons?\n",
      "Não!\n",
      "\n"
     ]
    }
   ],
   "source": [
    "print(\"- Será que as duas Pokédexes têm os mesmos Pokémons?\")\n",
    "if pokedex_caio == pokedex_thalles:\n",
    "    print(\"Sim!\")\n",
    "else:\n",
    "    print(\"Não!\")\n",
    "print()"
   ]
  },
  {
   "cell_type": "markdown",
   "metadata": {},
   "source": [
    "Para comparar se as *Pokédex* de *Caio* e *Thalles* são iguais, utilizamos o método dunder `__eq__`. Esse método compara se dois objetos são iguais e é chamado quando utilizamos o operador de igualdade `==`. No caso da nossa *Pokédex*, significa que são iguais se tiverem o mesmo número de monstrinhos e se todos os monstrinhos forem iguais.\n",
    "\n",
    "### Método para comparação de tamanho ( `>` )"
   ]
  },
  {
   "cell_type": "code",
   "execution_count": 104,
   "metadata": {},
   "outputs": [
    {
     "name": "stdout",
     "output_type": "stream",
     "text": [
      "- Qual Pokédex tem mais Pokémons?\n",
      "A Pokédex de Caio!\n",
      "\n"
     ]
    }
   ],
   "source": [
    "print(\"- Qual Pokédex tem mais Pokémons?\")\n",
    "if pokedex_caio > pokedex_thalles:\n",
    "    print(\"A Pokédex de Caio!\")\n",
    "else:\n",
    "    print(\"A Pokédex de Thalles!\")\n",
    "print()"
   ]
  },
  {
   "cell_type": "markdown",
   "metadata": {},
   "source": [
    "Para comparar se a *Pokédex* de *Caio* é maior que a de *Thalles*, utilizamos o método dunder `__gt__`. Esse método compara se um objeto é maior que outro e é chamado quando utilizamos o operador de maior que `>`. No caso da nossa *Pokédex*, uma será maior que outra se tiver mais monstrinhos.\n",
    "\n",
    "### Método para medida de tamanho ( `len()` )"
   ]
  },
  {
   "cell_type": "code",
   "execution_count": 105,
   "metadata": {},
   "outputs": [
    {
     "name": "stdout",
     "output_type": "stream",
     "text": [
      "- Quantos Pokémons cada Pokédex tem?\n",
      "Caio tem 11 Pokémons e Thalles tem 9 Pokémons.\n",
      "\n"
     ]
    }
   ],
   "source": [
    "print(\"- Quantos Pokémons cada Pokédex tem?\")\n",
    "print(f\"Caio tem {len(pokedex_caio)} Pokémons e Thalles tem {len(pokedex_thalles)} Pokémons.\")\n",
    "print()"
   ]
  },
  {
   "cell_type": "markdown",
   "metadata": {},
   "source": [
    "Para obter o tamanho de cada *Pokédex*, utilizamos o método dunder `__len__`. Esse método retorna o tamanho de um objeto e é chamado quando utilizamos a função `len()`. No caso da nossa *Pokédex*, isso significa o número de monstrinhos únicos capturados.\n",
    "\n",
    "Agora, vamos ver quais *Pokémons* cada treinador capturou! Isso não utiliza nenhum método dunder, mas é interessante para visualizar nossa história."
   ]
  },
  {
   "cell_type": "code",
   "execution_count": 106,
   "metadata": {},
   "outputs": [
    {
     "name": "stdout",
     "output_type": "stream",
     "text": [
      "- Quais são os Pokémons de cada Pokédex?\n",
      "Pokémons de Caio: ['Charmander', 'Eevee', 'Squirtle', 'Psyduck', 'Ditto', 'Lapras', 'Jolteon', 'Ponyta', 'Gengar', 'Abra', 'Meowth']\n",
      "Pokémons de Thalles: ['Bulbasaur', 'Ponyta', 'Lapras', 'Gengar', 'Abra', 'Pikachu', 'Eevee', 'Gengar', 'Jigglypuff']\n",
      "\n"
     ]
    }
   ],
   "source": [
    "print(\"- Quais são os Pokémons de cada Pokédex?\")\n",
    "print(\"Pokémons de Caio:\", pokedex_caio.all_pokemons())\n",
    "print(\"Pokémons de Thalles:\", pokedex_thalles.all_pokemons())\n",
    "print()"
   ]
  },
  {
   "cell_type": "markdown",
   "metadata": {},
   "source": [
    "Então, no final, percebemos que as duas *Pokédex* são diferentes, mas a de *Caio* (11) é maior que a de *Thalles* (9)! Isso significa que *Caio* capturou mais monstrinhos, mas não necessariamente os mesmos que *Thalles*."
   ]
  },
  {
   "cell_type": "markdown",
   "metadata": {},
   "source": [
    "## Conclusão\n",
    "\n",
    "Com isso, percebe-se que foi possível implementar métodos dunder para manipulação de objetos de forma a criar uma história interessante e lógica. Além disso, foi possível utilizar esses métodos para comparar objetos de forma intuitiva, utilizando operadores comuns como `==` e `>`.\n",
    "\n",
    "## Referências\n",
    "\n",
    "$^{[1]}$ https://www.reddit.com/r/Python/comments/br9ok2/list_of_all_python_dunder_methods/  \n",
    "\n",
    "$^{[2]}$ https://www.pythonmorsels.com/every-dunder-method/\n",
    "\n",
    "$^{[3]}$ https://www.pokemon.com/br/pokedex"
   ]
  }
 ],
 "metadata": {
  "kernelspec": {
   "display_name": "base",
   "language": "python",
   "name": "python3"
  },
  "language_info": {
   "codemirror_mode": {
    "name": "ipython",
    "version": 3
   },
   "file_extension": ".py",
   "mimetype": "text/x-python",
   "name": "python",
   "nbconvert_exporter": "python",
   "pygments_lexer": "ipython3",
   "version": "3.11.5"
  }
 },
 "nbformat": 4,
 "nbformat_minor": 2
}
