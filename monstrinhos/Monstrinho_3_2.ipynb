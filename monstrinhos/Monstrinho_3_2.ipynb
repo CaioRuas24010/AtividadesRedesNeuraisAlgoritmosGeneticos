{
 "cells": [
  {
   "cell_type": "markdown",
   "metadata": {},
   "source": [
    "# **Monstrinho 3.2** 🟢\n",
    "\n",
    "* Caio M. C. Ruas - RM: 24010\n",
    "\n",
    "## Introdução\n",
    "\n",
    "Nesse monstrinho, o objetivo era utilizar classes Python para modelar elementos químicos e moléculas. Para isso, foram criadas as classes `Elemento` e `Molecula`. A primeira representa um elemento químico, com suas propriedades atômicas obtidas através do site *ptable* $^{[1]}$, e a segunda representa uma molécula, com uma lista de elementos químicos e suas quantidades.\n",
    "\n",
    "Devido à uma sequência lógica de implementação, começaremos pelo mais simples, que trata sobre os elementos.\n",
    "### Elemento\n",
    "\n",
    "A classe `Elemento` possui os seguintes atributos:\n",
    "\n",
    "- `nome`: nome do elemento químico\n",
    "- `simbolo`: símbolo do elemento químico\n",
    "- `numero`: número atômico do elemento químico\n",
    "- `peso`: peso atômico do elemento químico"
   ]
  },
  {
   "cell_type": "code",
   "execution_count": 26,
   "metadata": {},
   "outputs": [],
   "source": [
    "class Elemento:\n",
    "    \" Classe para representar elementos químicos \"\n",
    "\n",
    "    def __init__(self, nome, simbolo, numero, peso):\n",
    "        self.nome = nome\n",
    "        self.simbolo = simbolo\n",
    "        self.numero = numero\n",
    "        self.peso = peso\n",
    "\n",
    "    def __str__(self):\n",
    "        return f\"Elemento: {self.nome} ({self.simbolo}) - Número atômico: {self.numero} - Peso atômico: {self.peso}\"\n",
    "    \n",
    "    def __repr__(self):\n",
    "        return f\"Elemento({self.nome}, {self.simbolo}, {self.numero}, {self.peso})\""
   ]
  },
  {
   "cell_type": "markdown",
   "metadata": {},
   "source": [
    "Após criar a classe, podemos testar a criação de elementos químicos."
   ]
  },
  {
   "cell_type": "code",
   "execution_count": 27,
   "metadata": {},
   "outputs": [
    {
     "name": "stdout",
     "output_type": "stream",
     "text": [
      "Print da instância - Elemento: Oxigênio (O) - Número atômico: 8 - Peso atômico: 15.999\n",
      "Repr da instância - Elemento(Oxigênio, O, 8, 15.999)\n",
      "\n",
      "Print da instância - Elemento: Hidrogênio (H) - Número atômico: 1 - Peso atômico: 1.008\n",
      "Repr da instância - Elemento(Hidrogênio, H, 1, 1.008)\n"
     ]
    }
   ],
   "source": [
    "oxigenio = Elemento(\"Oxigênio\", \"O\", 8, 15.999)\n",
    "\n",
    "hidrogenio = Elemento(\"Hidrogênio\", \"H\", 1, 1.008)\n",
    "\n",
    "print(f\"Print da instância - {oxigenio}\")\n",
    "print(f\"Repr da instância - {repr(oxigenio)}\")\n",
    "print()\n",
    "\n",
    "print(f\"Print da instância - {hidrogenio}\")\n",
    "print(f\"Repr da instância - {repr(hidrogenio)}\")"
   ]
  },
  {
   "cell_type": "markdown",
   "metadata": {},
   "source": [
    "Com a classe `Elemento` funcionando, podemos criar a classe `Molecula`.\n",
    "\n",
    "### Molecula\n",
    "\n",
    "A classe `Molecula` possui os seguintes métodos:\n",
    "\n",
    "- `peso`: peso molecular da molécula\n",
    "- `formula`: fórmula da molécula"
   ]
  },
  {
   "cell_type": "code",
   "execution_count": 44,
   "metadata": {},
   "outputs": [],
   "source": [
    "class Molecula:\n",
    "    \" Classe para representar moléculas \"\n",
    "\n",
    "    def __init__(self, nome, dicionario):\n",
    "        self.nome = nome\n",
    "        self.dicionario = dicionario\n",
    "        self.elementos = dicionario.keys()\n",
    "        self.quantias = dicionario.values()\n",
    "\n",
    "    def __str__(self):\n",
    "        return f\"Molécula: {self.nome} - Peso molecular: {self.peso()} - Fórmula: {self.formula()}\"\n",
    "\n",
    "    def __repr__(self):\n",
    "        return f\"Molecula({self.nome}, {self.dicionario})\"\n",
    "\n",
    "    def peso(self):\n",
    "        return sum([el.peso * qt for el, qt in zip(self.elementos, self.quantias)])\n",
    "\n",
    "    def formula(self):\n",
    "        return \"\".join([f\"{el.simbolo}{qt}\" for el, qt in zip(self.elementos, self.quantias)])    "
   ]
  },
  {
   "cell_type": "markdown",
   "metadata": {},
   "source": [
    "Com a classe molécula criada, podemos testar a criação (instanciação) de moléculas."
   ]
  },
  {
   "cell_type": "code",
   "execution_count": 45,
   "metadata": {},
   "outputs": [
    {
     "name": "stdout",
     "output_type": "stream",
     "text": [
      "Print da instância - Molécula: Água - Peso molecular: 18.015 - Fórmula: O1H2\n",
      "Repr da instância - Molecula(Água, {Elemento(Oxigênio, O, 8, 15.999): 1, Elemento(Hidrogênio, H, 1, 1.008): 2})\n",
      "\n",
      "Peso molecular da água: 18.015\n",
      "Fórmula da água: O1H2\n"
     ]
    }
   ],
   "source": [
    "dicionario_agua = {oxigenio: 1, hidrogenio: 2}\n",
    "\n",
    "agua = Molecula(\"Água\", dicionario_agua)\n",
    "\n",
    "print(f\"Print da instância - {agua}\")\n",
    "print(f\"Repr da instância - {repr(agua)}\")\n",
    "print()\n",
    "print(f\"Peso molecular da água: {agua.peso()}\")\n",
    "print(f\"Fórmula da água: {agua.formula()}\")"
   ]
  },
  {
   "cell_type": "markdown",
   "metadata": {},
   "source": [
    "Podemos tentar com algo mais \"complexo\", como o óxido férrico, que é composto por 2 átomos de ferro e 3 átomos de oxigênio."
   ]
  },
  {
   "cell_type": "code",
   "execution_count": 31,
   "metadata": {},
   "outputs": [
    {
     "name": "stdout",
     "output_type": "stream",
     "text": [
      "Print da instância - Molécula: Óxido férrico - Peso molecular: 159.687 - Fórmula: Fe2O3\n",
      "Repr da instância - Molecula(Óxido férrico, {Elemento(Ferro, Fe, 26, 55.845): 2, Elemento(Oxigênio, O, 8, 15.999): 3})\n",
      "\n",
      "Peso molecular do óxido férrico: 159.687\n",
      "Fórmula do óxido férrico: Fe2O3\n"
     ]
    }
   ],
   "source": [
    "ferro = Elemento(\"Ferro\", \"Fe\", 26, 55.845)\n",
    "\n",
    "oxido_ferrico = Molecula(\"Óxido férrico\", {ferro: 2, oxigenio: 3})\n",
    "\n",
    "print(f\"Print da instância - {oxido_ferrico}\")\n",
    "print(f\"Repr da instância - {repr(oxido_ferrico)}\")\n",
    "print()\n",
    "\n",
    "print(f\"Peso molecular do óxido férrico: {oxido_ferrico.peso()}\")\n",
    "print(f\"Fórmula do óxido férrico: {oxido_ferrico.formula()}\")"
   ]
  },
  {
   "cell_type": "code",
   "execution_count": 32,
   "metadata": {},
   "outputs": [
    {
     "name": "stdout",
     "output_type": "stream",
     "text": [
      "Print da instância - Molécula: ferro ii - Peso molecular: 111.69 - Fórmula: Fe2\n"
     ]
    }
   ],
   "source": [
    "ferro2_dicionario = {ferro: 2}\n",
    "\n",
    "ferro2 = Molecula(\"ferro ii\", ferro2_dicionario)\n",
    "\n",
    "print(f\"Print da instância - {ferro2}\")"
   ]
  },
  {
   "cell_type": "markdown",
   "metadata": {},
   "source": [
    "Como demonstrado acima, a classe `Molecula` foi implementada com sucesso. Os pesos moleculares foram comparados com valores obtidos através do site *PubChem* $^{[2]}$ e válidados."
   ]
  },
  {
   "cell_type": "markdown",
   "metadata": {},
   "source": [
    "## Conclusão\n",
    "\n",
    "A proposta do monstrinho foi cumprida com sucesso. Foram criadas as classes `Elemento` e `Molecula`, que modelam elementos químicos e moléculas, respectivamente. Conseguimos atender aos requisitos de que a primeira deveria conter os atributos `nome`, `simbolo`, `numero` e `peso`, e a segunda deveria conter os atributos `peso` e `formula` e testamos a implementação das classes com sucesso.\n",
    "\n",
    "## Referências\n",
    "\n",
    "$^{[1]}$ DAYAH, M. Ptable - Interactive Periodic Table. Disponível em: <https://ptable.com/#Properties>.\n",
    "\n",
    "$^{[2]}$ PUBCHEM. PubChem. Disponível em: <https://pubchem.ncbi.nlm.nih.gov/>. \n",
    "\n",
    "$^{[3]}$ How To Use the __str__() and __repr__() Methods in Python | DigitalOcean. Disponível em: <https://www.digitalocean.com/community/tutorials/python-str-repr-functions>. "
   ]
  }
 ],
 "metadata": {
  "kernelspec": {
   "display_name": "base",
   "language": "python",
   "name": "python3"
  },
  "language_info": {
   "codemirror_mode": {
    "name": "ipython",
    "version": 3
   },
   "file_extension": ".py",
   "mimetype": "text/x-python",
   "name": "python",
   "nbconvert_exporter": "python",
   "pygments_lexer": "ipython3",
   "version": "3.11.5"
  }
 },
 "nbformat": 4,
 "nbformat_minor": 2
}
