{
 "cells": [
  {
   "cell_type": "markdown",
   "metadata": {},
   "source": [
    "# **Monstrinho 3.3**\n",
    "\n",
    "* Caio M. C. Ruas - RM: 24010\n",
    "\n",
    "## Introdução\n",
    "\n",
    "Nesse monstrinho, o objetivo era utilizar o conceito de herança de classes para modelagem de algum conceito científico. Como resposta, a estrutura proposta envolve a criação de uma classe base, `CorpoCeleste`, que define atributos fundamentais compartilhados por diversos objetos astronômicos, tais como `nome`, `massa`, `raio` e `distancia`. A partir desta classe, derivam-se classes específicas como `Planetas`, `Estrelas` e `Satelites`, cada uma herdando os atributos da classe mãe e podendo implementar utilidades próprias.\n",
    "\n",
    "O uso de herança de classes faz sentido porque objetos astronômicos compartilham diversas características em comum, como citadas anteriormente. Além disso, a herança permite a criação de classes mais específicas em que certas características são mais relevantes ou não, como a presença de atmosfera em planetas ou a luminosidade em estrelas.\n",
    "\n",
    "Vale ressaltar que a ideia foi retirada de uma conversa realizada com o software de inteligência artificial *Gemini Advanced* $^{[1]}$. Além disso, as definições utilizadas para considerar diferenças entre planetas, estrelas e satélites foram baseadas em definições da *União Astronômica Internacional* $^{[2]}$ encontradas no site da *NASA* $^{[3; \\ \\ 4; \\ \\ 5]}$.\n",
    "\n",
    "Para começar, vamos definir nossa classe mãe!"
   ]
  },
  {
   "cell_type": "code",
   "execution_count": null,
   "metadata": {},
   "outputs": [],
   "source": [
    "import math\n",
    "\n",
    "# Definir a constante gravitacional\n",
    "G = 6.67430e-11\n",
    "\n",
    "class CorpoCeleste:\n",
    "    def __init__(self, nome, massa, raio):\n",
    "        \"\"\"Inicializa um corpo celeste.\"\"\"\n",
    "        self.nome = nome\n",
    "        self.massa = massa\n",
    "        self.raio = raio\n",
    "\n",
    "    def __str__(self):\n",
    "        return f'{self.nome}'\n",
    "\n",
    "    def __repr__(self):\n",
    "        return f'{self.nome}'\n",
    "\n",
    "    def calcular_volume(self):\n",
    "        \"\"\"Calcula o volume esférico do corpo celeste em m³.\"\"\"\n",
    "        return (4/3) * math.pi * self.raio**3\n",
    "\n",
    "    def calcular_densidade(self):\n",
    "        \"\"\"Calcula a densidade média do corpo celeste em kg/m³.\"\"\"\n",
    "        volume = self.calcular_volume()\n",
    "        if volume == 0:\n",
    "            return 0\n",
    "        return self.massa / volume\n",
    "\n",
    "    def calcular_forca_gravitacional(self, outro_corpo, distancia):\n",
    "        \"\"\"Calcula a força gravitacional entre este corpo e outro.\"\"\"\n",
    "        if distancia == 0:\n",
    "             return float('inf')\n",
    "        return G * self.massa * outro_corpo.massa / distancia**2\n",
    "\n",
    "    def obter_tipo(self):\n",
    "        \"\"\"Retorna o tipo do corpo celeste, ou 'Corpo Celeste' como padrão.\"\"\"\n",
    "        return getattr(self, 'tipo', 'Corpo Celeste')"
   ]
  },
  {
   "cell_type": "markdown",
   "metadata": {},
   "source": [
    "Podemos testar um exemplo genérico:"
   ]
  },
  {
   "cell_type": "code",
   "execution_count": 2,
   "metadata": {},
   "outputs": [
    {
     "name": "stdout",
     "output_type": "stream",
     "text": [
      "\n",
      "Dados do corpo celeste: Corpo Celeste Corpo Genérico\n",
      "Volume: 4.1887902047863905\n",
      "Densidade: 0.23873241463784303\n"
     ]
    }
   ],
   "source": [
    "corpo_generico = CorpoCeleste('Corpo Genérico', 1, 1)\n",
    "\n",
    "print(f'\\nDados do corpo celeste: {corpo_generico.obter_tipo()} {corpo_generico}')\n",
    "print(f'Volume: {corpo_generico.calcular_volume()}')\n",
    "print(f'Densidade: {corpo_generico.calcular_densidade()}')"
   ]
  },
  {
   "cell_type": "markdown",
   "metadata": {},
   "source": [
    "Funcionou! Agora, o principal ponto da atividade, as classes que herdam de `CorpoCeleste`:\n",
    "\n",
    "**Obs:** A definição de satélite encontrada inclui planetas como satélites (corpos celestes que orbitam outros corpos). Se ela fosse seguida à risca, a classe `Planeta` não seria necessária. No entanto, para fins didáticos, optei por manter a classe `Satelite` separada e considerar os objetos de `Planeta` como satélites de uma estrela e os objetos de `Satelite` como satélites de um planeta."
   ]
  },
  {
   "cell_type": "code",
   "execution_count": 3,
   "metadata": {},
   "outputs": [],
   "source": [
    "class Planeta(CorpoCeleste):\n",
    "    def __init__(self, nome, massa, raio, temperatura_media, atmosfera, estrela, luas):\n",
    "        \"\"\"Inicializa um planeta.\"\"\"\n",
    "        super().__init__(nome, massa, raio)\n",
    "        self.temperatura_media = temperatura_media\n",
    "        self.atmosfera = atmosfera\n",
    "        self.estrela = estrela\n",
    "        self.luas = luas\n",
    "        self.tipo = 'Planeta'\n",
    "\n",
    "    def calcular_gravidade_superficie(self):\n",
    "        \"\"\"Calcula a aceleração da gravidade na superfície do planeta em m/s².\"\"\"\n",
    "        if self.raio == 0:\n",
    "            return 0\n",
    "        # Fórmula g = G * M / r²\n",
    "        return G * self.massa / self.raio**2\n",
    "\n",
    "    def descrever_orbita(self):\n",
    "        \"\"\"Retorna uma descrição simples da órbita.\"\"\"\n",
    "        return f\"{self.nome} orbita a estrela {self.estrela}.\"\n",
    "\n",
    "    def listar_luas(self):\n",
    "        \"\"\"Retorna a lista de luas conhecidas.\"\"\"\n",
    "        if not self.luas:\n",
    "            return f\"{self.nome} não possui luas conhecidas.\"\n",
    "        return f\"Luas de {self.nome}: {', '.join(self.luas)}\"\n",
    "\n",
    "\n",
    "class Estrela(CorpoCeleste):\n",
    "    def __init__(self, nome, massa, raio, temperatura_superficie, luminosidade):\n",
    "        \"\"\"Inicializa uma estrela.\"\"\"\n",
    "        super().__init__(nome, massa, raio)\n",
    "        self.temperatura_superficie = temperatura_superficie\n",
    "        self.luminosidade = luminosidade\n",
    "        self.tipo = 'Estrela'\n",
    "\n",
    "    def calcular_potencia_por_area(self):\n",
    "        \"\"\"Calcula a potência irradiada por unidade de área (Lei de Stefan-Boltzmann) em W/m².\"\"\"\n",
    "        sigma = 5.670374419e-8 # Constante de Stefan-Boltzmann (W m⁻² K⁻⁴)\n",
    "        return sigma * self.temperatura_superficie**4\n",
    "\n",
    "    def classificar_estrela(self):\n",
    "        \"\"\"Fornece uma classificação espectral muito simplificada baseada na temperatura.\"\"\"\n",
    "        temp = self.temperatura_superficie\n",
    "        if temp >= 30000: return \"Classe O (Azul)\"\n",
    "        elif temp >= 10000: return \"Classe B (Azul-Branca)\"\n",
    "        elif temp >= 7500: return \"Classe A (Branca)\"\n",
    "        elif temp >= 6000: return \"Classe F (Amarela-Branca)\"\n",
    "        elif temp >= 5200: return \"Classe G (Amarela)\" # Como o Sol\n",
    "        elif temp >= 3700: return \"Classe K (Laranja)\"\n",
    "        else: return \"Classe M (Vermelha)\"\n",
    "\n",
    "\n",
    "class Satelite(CorpoCeleste):\n",
    "    def __init__(self, nome, massa, raio, planeta_orbitado, natureza):\n",
    "        \"\"\"Inicializa um satélite.\"\"\"\n",
    "        super().__init__(nome, massa, raio)\n",
    "        self.planeta_orbitado = planeta_orbitado\n",
    "        self.tipo = 'Satélite'\n",
    "        self.natureza = natureza # 'Natural' ou 'Artificial'\n",
    "\n",
    "    def obter_planeta_orbitado(self):\n",
    "        \"\"\"Retorna o nome do corpo celeste que o satélite orbita.\"\"\"\n",
    "        return self.planeta_orbitado.nome\n",
    "\n",
    "    def descrever_tipo(self):\n",
    "        \"\"\"Retorna uma descrição do tipo de satélite.\"\"\"\n",
    "        return f\"{self.nome} é um satélite do tipo {self.natureza}.\""
   ]
  },
  {
   "cell_type": "markdown",
   "metadata": {},
   "source": [
    "Com elas criadas, podemos testar se funcionou:"
   ]
  },
  {
   "cell_type": "code",
   "execution_count": 4,
   "metadata": {},
   "outputs": [
    {
     "name": "stdout",
     "output_type": "stream",
     "text": [
      "\n",
      "--- Terra (Planeta) ---\n",
      "Gravidade na superfície: 9.82 m/s²\n",
      "Terra orbita a estrela Sol.\n",
      "Luas de Terra: Lua\n",
      "Densidade: 5513.26 kg/m³\n",
      "\n",
      "--- Sol (Estrela) ---\n",
      "Classificação Espectral: Classe G (Amarela)\n",
      "Potência por Área: 6.32e+07 W/m²\n",
      "Densidade: 1410.20 kg/m³\n",
      "\n",
      "--- Lua (Satélite) ---\n",
      "Orbita: Terra\n",
      "Lua é um satélite do tipo Natural.\n",
      "Densidade: 3344.46 kg/m³\n",
      "\n",
      "Força Gravitacional Terra-Lua: 1.98e+20 N\n",
      "Força Gravitacional Terra-Sol: 3.54e+22 N\n"
     ]
    }
   ],
   "source": [
    "# -- Definindo os corpos celestes ---\n",
    "\n",
    "sol = Estrela(\n",
    "    nome='Sol',\n",
    "    massa=1.989e30,   \n",
    "    raio=695700 * 1000,\n",
    "    temperatura_superficie=5778,\n",
    "    luminosidade=3.828e26\n",
    ")\n",
    "\n",
    "terra = Planeta(\n",
    "    nome='Terra',\n",
    "    massa=5.972e24,\n",
    "    raio=6371 * 1000,\n",
    "    temperatura_media=288,\n",
    "    atmosfera='N2, O2, Ar',\n",
    "    estrela=sol.nome,\n",
    "    luas=['Lua']\n",
    ")\n",
    "\n",
    "lua = Satelite(\n",
    "    nome='Lua',\n",
    "    massa=7.342e22,\n",
    "    raio=1737 * 1000,\n",
    "    planeta_orbitado=terra,\n",
    "    natureza='Natural'\n",
    ")\n",
    "\n",
    "# --- Testando os métodos ---\n",
    "\n",
    "# Planeta\n",
    "print(f\"\\n--- {terra.nome} ({terra.obter_tipo()}) ---\")\n",
    "print(f\"Gravidade na superfície: {terra.calcular_gravidade_superficie():.2f} m/s²\") # ~9.8 m/s²\n",
    "print(terra.descrever_orbita())\n",
    "print(terra.listar_luas())\n",
    "print(f\"Densidade: {terra.calcular_densidade():.2f} kg/m³\") # ~5514 kg/m³\n",
    "\n",
    "# Estrela\n",
    "print(f\"\\n--- {sol.nome} ({sol.obter_tipo()}) ---\")\n",
    "print(f\"Classificação Espectral: {sol.classificar_estrela()}\")\n",
    "print(f\"Potência por Área: {sol.calcular_potencia_por_area():.2e} W/m²\") # ~6.3e7 W/m²\n",
    "print(f\"Densidade: {sol.calcular_densidade():.2f} kg/m³\") # ~1410 kg/m³\n",
    "\n",
    "# Satélite\n",
    "print(f\"\\n--- {lua.nome} ({lua.obter_tipo()}) ---\")\n",
    "print(f\"Orbita: {lua.obter_planeta_orbitado()}\")\n",
    "print(lua.descrever_tipo())\n",
    "print(f\"Densidade: {lua.calcular_densidade():.2f} kg/m³\") # ~3344 kg/m³\n",
    "\n",
    "# Força Gravitacional (usando distâncias em metros)\n",
    "dist_terra_lua_m = 384400 * 1000\n",
    "forca_terra_lua = terra.calcular_forca_gravitacional(lua, dist_terra_lua_m)\n",
    "print(f\"\\nForça Gravitacional Terra-Lua: {forca_terra_lua:.2e} N\") # ~1.98e20 N\n",
    "\n",
    "dist_terra_sol_m = 149.6e9\n",
    "forca_terra_sol = terra.calcular_forca_gravitacional(sol, dist_terra_sol_m)\n",
    "print(f\"Força Gravitacional Terra-Sol: {forca_terra_sol:.2e} N\") # ~3.54e22 N"
   ]
  },
  {
   "cell_type": "markdown",
   "metadata": {},
   "source": [
    "Funcionou!"
   ]
  },
  {
   "cell_type": "markdown",
   "metadata": {},
   "source": [
    "## Conclusão\n",
    "\n",
    "Durante o notebook, foi possível observar de maneira funcional a utilização de herança de classes para modelar objetos astronômicos. A classe mãe `CorpoCeleste` definiu atributos fundamentais compartilhados por diversos objetos astronômicos, enquanto as classes `Planetas`, `Estrelas` e `Satelites` herdam esses atributos e podem implementar funcionalidades/características próprias.\n",
    "\n",
    "## Curiosidade\n",
    "\n",
    "Durante a resolução dessa problemática, foi implantado o `getattr` para acessar atributos de uma classe de forma dinâmica, particularmente no método `obter_tipo` da classe mãe. \n",
    "\n",
    "Foi curioso traballhar com essa função, pois ela permite acessar atributos de uma classe. Porém métodos também podem ser acessados por ela!\n",
    "\n",
    "Enquanto tentava fazer o método funcionar, acabei chamando-o de `tipo` (o mesmo nome do atributo), o que resultava em um *output* diferente do esperado, como o exemplo abaixo.\n",
    "\n",
    "Foi bem engraçado de resolver, pois a solução era simples, mas a confusão inicial durou bastante tempo."
   ]
  },
  {
   "cell_type": "code",
   "execution_count": null,
   "metadata": {},
   "outputs": [
    {
     "name": "stdout",
     "output_type": "stream",
     "text": [
      "\n",
      "Dados do exemplo: <bound method Exemplo.tipo of <__main__.Exemplo object at 0x000001C40162ABD0>> Exemplo 1\n"
     ]
    }
   ],
   "source": [
    "class Exemplo:\n",
    "\n",
    "    def __init__(self, nome):\n",
    "        self.nome = nome\n",
    "        \n",
    "    def __str__(self):\n",
    "        return f'{self.nome}'\n",
    "\n",
    "    def tipo(self):\n",
    "        return getattr(self, 'tipo', 'Exemplo')\n",
    "    \n",
    "exemplo_1 = Exemplo('Exemplo 1')\n",
    "\n",
    "print(f'\\nDados do exemplo: {exemplo_1.tipo()} {exemplo_1}')"
   ]
  },
  {
   "cell_type": "markdown",
   "metadata": {},
   "source": [
    "## Referências\n",
    "\n",
    "$^{[1]}$ https://g.co/gemini/share/ca48d543d52a\n",
    "\n",
    "$^{[2]}$ https://www.iau.org/\n",
    "\n",
    "$^{[3]}$ https://science.nasa.gov/solar-system/planets/what-is-a-planet/#h-the-new-definition-of-planet\n",
    "\n",
    "$^{[4]}$ https://science.nasa.gov/universe/stars/#:~:text=Stars%20are%20giant%20balls%20of,properties%20change%20as%20it%20ages\n",
    "\n",
    "$^{[5]}$ https://www.nasa.gov/general/what-is-a-satellite/\n",
    "\n",
    "$^{[6]}$ https://www.youtube.com/watch?v=5MXDZI3jRio\n"
   ]
  }
 ],
 "metadata": {
  "kernelspec": {
   "display_name": "base",
   "language": "python",
   "name": "python3"
  },
  "language_info": {
   "codemirror_mode": {
    "name": "ipython",
    "version": 3
   },
   "file_extension": ".py",
   "mimetype": "text/x-python",
   "name": "python",
   "nbconvert_exporter": "python",
   "pygments_lexer": "ipython3",
   "version": "3.11.5"
  }
 },
 "nbformat": 4,
 "nbformat_minor": 2
}
